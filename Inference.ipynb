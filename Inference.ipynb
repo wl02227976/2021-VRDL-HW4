{
  "nbformat": 4,
  "nbformat_minor": 0,
  "metadata": {
    "colab": {
      "name": "Inference.ipynb",
      "provenance": [],
      "machine_shape": "hm"
    },
    "kernelspec": {
      "name": "python3",
      "display_name": "Python 3"
    },
    "language_info": {
      "name": "python"
    },
    "accelerator": "GPU"
  },
  "cells": [
    {
      "cell_type": "code",
      "execution_count": 1,
      "metadata": {
        "colab": {
          "base_uri": "https://localhost:8080/"
        },
        "id": "fmMePgbNfco-",
        "outputId": "a1f65f55-697e-4040-d61a-3327b1ba8cd1"
      },
      "outputs": [
        {
          "output_type": "stream",
          "name": "stdout",
          "text": [
            "Cloning into '2021-VRDL-HW4'...\n",
            "remote: Enumerating objects: 49, done.\u001b[K\n",
            "remote: Counting objects: 100% (49/49), done.\u001b[K\n",
            "remote: Compressing objects: 100% (43/43), done.\u001b[K\n",
            "remote: Total 49 (delta 20), reused 0 (delta 0), pack-reused 0\u001b[K\n",
            "Unpacking objects: 100% (49/49), done.\n"
          ]
        }
      ],
      "source": [
        "!git clone https://github.com/wl02227976/2021-VRDL-HW4"
      ]
    },
    {
      "cell_type": "code",
      "source": [
        "%cd 2021-VRDL-HW4"
      ],
      "metadata": {
        "colab": {
          "base_uri": "https://localhost:8080/"
        },
        "id": "USkKqvCifray",
        "outputId": "398c4db6-8f02-4305-c598-124409ecd219"
      },
      "execution_count": 2,
      "outputs": [
        {
          "output_type": "stream",
          "name": "stdout",
          "text": [
            "/content/2021-VRDL-HW4\n"
          ]
        }
      ]
    },
    {
      "cell_type": "code",
      "source": [
        "from google_drive_downloader import GoogleDriveDownloader as gdd\n",
        "gdd.download_file_from_google_drive(file_id='1ewI1tdXqpkxRwh06tLYwaGpdBEY5PBzw',\n",
        "                                    dest_path='data/dataset.zip',\n",
        "                                    unzip=True)"
      ],
      "metadata": {
        "colab": {
          "base_uri": "https://localhost:8080/"
        },
        "id": "X1DzAKp8frdZ",
        "outputId": "e08b9c5b-e2a7-40a0-ae5b-ed32e2cb1b79"
      },
      "execution_count": 3,
      "outputs": [
        {
          "output_type": "stream",
          "name": "stdout",
          "text": [
            "Downloading 1ewI1tdXqpkxRwh06tLYwaGpdBEY5PBzw into data/dataset.zip... Done.\n",
            "Unzipping...Done.\n"
          ]
        }
      ]
    },
    {
      "cell_type": "code",
      "source": [
        "gdd.download_file_from_google_drive(file_id='15QWYP5oO_b8mBSS6mas9bS6FqojT_xnL',\n",
        "                                    dest_path='models/best_checkpoint_srresnet.pth.tar',\n",
        "                                    unzip=False)"
      ],
      "metadata": {
        "colab": {
          "base_uri": "https://localhost:8080/"
        },
        "id": "VeH5Qbxlfrii",
        "outputId": "bbe6d07d-ca70-4479-d837-fc1ef0cbbb4c"
      },
      "execution_count": 4,
      "outputs": [
        {
          "output_type": "stream",
          "name": "stdout",
          "text": [
            "Downloading 1fkPmy5dTqZ1wR0ukahXBirZIwNJeAh-E into models/best_checkpoint_srresnet.pth.tar... Done.\n"
          ]
        }
      ]
    },
    {
      "cell_type": "code",
      "source": [
        "!python inference.py"
      ],
      "metadata": {
        "id": "z_4T4SBpfrlB"
      },
      "execution_count": 5,
      "outputs": []
    }
  ]
}
