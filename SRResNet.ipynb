{
  "nbformat": 4,
  "nbformat_minor": 0,
  "metadata": {
    "colab": {
      "name": "SRResNet.ipynb",
      "provenance": [],
      "machine_shape": "hm"
    },
    "kernelspec": {
      "name": "python3",
      "display_name": "Python 3"
    },
    "language_info": {
      "name": "python"
    },
    "accelerator": "GPU"
  },
  "cells": [
    {
      "cell_type": "code",
      "execution_count": 1,
      "metadata": {
        "colab": {
          "base_uri": "https://localhost:8080/"
        },
        "id": "_ljHTin1NZ8g",
        "outputId": "e67e0492-a294-4156-c669-d431c942cf5f"
      },
      "outputs": [
        {
          "output_type": "stream",
          "name": "stdout",
          "text": [
            "Cloning into '2021-VRDL-HW4'...\n",
            "remote: Enumerating objects: 40, done.\u001b[K\n",
            "remote: Counting objects: 100% (40/40), done.\u001b[K\n",
            "remote: Compressing objects: 100% (34/34), done.\u001b[K\n",
            "remote: Total 40 (delta 15), reused 0 (delta 0), pack-reused 0\u001b[K\n",
            "Unpacking objects: 100% (40/40), done.\n"
          ]
        }
      ],
      "source": [
        "!git clone https://github.com/wl02227976/2021-VRDL-HW4"
      ]
    },
    {
      "cell_type": "code",
      "source": [
        "%cd 2021-VRDL-HW4"
      ],
      "metadata": {
        "colab": {
          "base_uri": "https://localhost:8080/"
        },
        "id": "usu72-lsNukd",
        "outputId": "4131db83-b5e1-4ae9-9fa7-dbe92ef22ae8"
      },
      "execution_count": 2,
      "outputs": [
        {
          "output_type": "stream",
          "name": "stdout",
          "text": [
            "/content/2021-VRDL-HW4\n"
          ]
        }
      ]
    },
    {
      "cell_type": "code",
      "source": [
        "from google_drive_downloader import GoogleDriveDownloader as gdd"
      ],
      "metadata": {
        "id": "hBlOzjFSPLCU"
      },
      "execution_count": 3,
      "outputs": []
    },
    {
      "cell_type": "code",
      "source": [
        "gdd.download_file_from_google_drive(file_id='1ewI1tdXqpkxRwh06tLYwaGpdBEY5PBzw',\n",
        "                                    dest_path='data/dataset.zip',\n",
        "                                    unzip=True)"
      ],
      "metadata": {
        "colab": {
          "base_uri": "https://localhost:8080/"
        },
        "id": "gxUudk49O9E1",
        "outputId": "adefdce3-8e2d-4ba9-a724-b535c664b3bd"
      },
      "execution_count": 4,
      "outputs": [
        {
          "output_type": "stream",
          "name": "stdout",
          "text": [
            "Downloading 1ewI1tdXqpkxRwh06tLYwaGpdBEY5PBzw into data/dataset.zip... Done.\n",
            "Unzipping...Done.\n"
          ]
        }
      ]
    },
    {
      "cell_type": "code",
      "source": [
        "!python data_preprocess.py"
      ],
      "metadata": {
        "id": "TiiMUgx_O9G0"
      },
      "execution_count": 5,
      "outputs": []
    },
    {
      "cell_type": "code",
      "source": [
        "!python train.py"
      ],
      "metadata": {
        "colab": {
          "base_uri": "https://localhost:8080/"
        },
        "id": "bkjzOBWqNusM",
        "outputId": "cbfcdfe0-d35a-471e-ce0f-63f1f4f9f2c1"
      },
      "execution_count": 6,
      "outputs": [
        {
          "output_type": "stream",
          "name": "stdout",
          "text": [
            "Epoch: 0 -- Batch Time: 0.312 -- Loss: 0.1880 -- PSNR: 17.0717\n",
            "Epoch: 0, PSNR: 18.724006063901275\n",
            "Epoch: 1 -- Batch Time: 0.148 -- Loss: 0.0736 -- PSNR: 20.2059\n",
            "Epoch: 1, PSNR: 16.2891570308449\n",
            "Epoch: 2 -- Batch Time: 0.145 -- Loss: 0.0643 -- PSNR: 20.2980\n",
            "Epoch: 2, PSNR: 19.15023572610109\n",
            "Epoch: 3 -- Batch Time: 0.146 -- Loss: 0.0526 -- PSNR: 21.3995\n",
            "Epoch: 3, PSNR: 20.097580719590407\n",
            "Epoch: 4 -- Batch Time: 0.147 -- Loss: 0.0462 -- PSNR: 21.8831\n",
            "Epoch: 4, PSNR: 23.808671374283037\n",
            "Epoch: 5 -- Batch Time: 0.149 -- Loss: 0.0398 -- PSNR: 22.5697\n",
            "Epoch: 5, PSNR: 23.826659914185328\n",
            "Epoch: 6 -- Batch Time: 0.145 -- Loss: 0.0355 -- PSNR: 23.0347\n",
            "Epoch: 6, PSNR: 24.464939701557434\n",
            "Epoch: 7 -- Batch Time: 0.147 -- Loss: 0.0330 -- PSNR: 23.2692\n",
            "Epoch: 7, PSNR: 24.64651102346296\n",
            "Epoch: 8 -- Batch Time: 0.148 -- Loss: 0.0297 -- PSNR: 23.8378\n",
            "Epoch: 8, PSNR: 25.325587249389827\n",
            "Epoch: 9 -- Batch Time: 0.147 -- Loss: 0.0300 -- PSNR: 23.5647\n",
            "Epoch: 9, PSNR: 25.42493429200429\n",
            "Epoch: 10 -- Batch Time: 0.150 -- Loss: 0.0263 -- PSNR: 24.2299\n",
            "Epoch: 10, PSNR: 25.80554535602373\n",
            "Epoch: 11 -- Batch Time: 0.149 -- Loss: 0.0259 -- PSNR: 24.3248\n",
            "Epoch: 11, PSNR: 25.735407281909055\n",
            "Epoch: 12 -- Batch Time: 0.145 -- Loss: 0.0268 -- PSNR: 24.0999\n",
            "Epoch: 12, PSNR: 25.73304979128488\n",
            "Epoch: 13 -- Batch Time: 0.147 -- Loss: 0.0244 -- PSNR: 24.5574\n",
            "Epoch: 13, PSNR: 26.536823310157747\n",
            "Epoch: 14 -- Batch Time: 0.143 -- Loss: 0.0231 -- PSNR: 24.7536\n",
            "Epoch: 14, PSNR: 26.730224419684877\n",
            "Epoch: 15 -- Batch Time: 0.145 -- Loss: 0.0219 -- PSNR: 24.9642\n",
            "Epoch: 15, PSNR: 26.889348218529342\n",
            "Epoch: 16 -- Batch Time: 0.148 -- Loss: 0.0219 -- PSNR: 25.0402\n",
            "Epoch: 16, PSNR: 26.773393974604193\n",
            "Epoch: 17 -- Batch Time: 0.145 -- Loss: 0.0231 -- PSNR: 25.0070\n",
            "Epoch: 17, PSNR: 26.910719913575154\n",
            "Epoch: 18 -- Batch Time: 0.145 -- Loss: 0.0209 -- PSNR: 25.3955\n",
            "Epoch: 18, PSNR: 26.04495782885028\n",
            "Epoch: 19 -- Batch Time: 0.146 -- Loss: 0.0198 -- PSNR: 25.4813\n",
            "Epoch: 19, PSNR: 26.452535580957875\n",
            "Epoch: 20 -- Batch Time: 0.146 -- Loss: 0.0193 -- PSNR: 25.5907\n",
            "Epoch: 20, PSNR: 26.455341530818597\n",
            "Epoch: 21 -- Batch Time: 0.151 -- Loss: 0.0183 -- PSNR: 25.7831\n",
            "Epoch: 21, PSNR: 26.76647782487619\n",
            "Epoch: 22 -- Batch Time: 0.149 -- Loss: 0.0194 -- PSNR: 25.4293\n",
            "Epoch: 22, PSNR: 27.5286344235922\n",
            "Epoch: 23 -- Batch Time: 0.147 -- Loss: 0.0182 -- PSNR: 25.7862\n",
            "Epoch: 23, PSNR: 27.477044473916706\n",
            "Epoch: 24 -- Batch Time: 0.147 -- Loss: 0.0176 -- PSNR: 25.7163\n",
            "Epoch: 24, PSNR: 27.68486571542504\n",
            "Epoch: 25 -- Batch Time: 0.146 -- Loss: 0.0164 -- PSNR: 26.0128\n",
            "Epoch: 25, PSNR: 27.630767235305385\n",
            "Epoch: 26 -- Batch Time: 0.148 -- Loss: 0.0180 -- PSNR: 25.5897\n",
            "Epoch: 26, PSNR: 27.704363507530406\n",
            "Epoch: 27 -- Batch Time: 0.149 -- Loss: 0.0172 -- PSNR: 25.8947\n",
            "Epoch: 27, PSNR: 27.217654365117543\n",
            "Epoch: 28 -- Batch Time: 0.148 -- Loss: 0.0184 -- PSNR: 25.5099\n",
            "Epoch: 28, PSNR: 27.89236864794363\n",
            "Epoch: 29 -- Batch Time: 0.147 -- Loss: 0.0169 -- PSNR: 25.9737\n",
            "Epoch: 29, PSNR: 27.461373162168748\n"
          ]
        }
      ]
    },
    {
      "cell_type": "code",
      "source": [
        "!python inference.py"
      ],
      "metadata": {
        "id": "LnsGHsQ3Nuuc"
      },
      "execution_count": 10,
      "outputs": []
    }
  ]
}
